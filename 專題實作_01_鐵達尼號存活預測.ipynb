{
  "nbformat": 4,
  "nbformat_minor": 0,
  "metadata": {
    "colab": {
      "provenance": [],
      "authorship_tag": "ABX9TyPh4Igbh7T+00oZQtF/7UzH",
      "include_colab_link": true
    },
    "kernelspec": {
      "name": "python3",
      "display_name": "Python 3"
    },
    "language_info": {
      "name": "python"
    }
  },
  "cells": [
    {
      "cell_type": "markdown",
      "metadata": {
        "id": "view-in-github",
        "colab_type": "text"
      },
      "source": [
        "<a href=\"https://colab.research.google.com/github/jentzufred/titanic_analysis/blob/main/%E5%B0%88%E9%A1%8C%E5%AF%A6%E4%BD%9C_01_%E9%90%B5%E9%81%94%E5%B0%BC%E8%99%9F%E5%AD%98%E6%B4%BB%E9%A0%90%E6%B8%AC.ipynb\" target=\"_parent\"><img src=\"https://colab.research.google.com/assets/colab-badge.svg\" alt=\"Open In Colab\"/></a>"
      ]
    },
    {
      "cell_type": "markdown",
      "source": [
        "專題實作 #01: 鐵達尼號存活預測\n"
      ],
      "metadata": {
        "id": "ehzlRIiGFJYe"
      }
    },
    {
      "cell_type": "code",
      "execution_count": 1,
      "metadata": {
        "id": "xA_zDWowE6vd",
        "colab": {
          "base_uri": "https://localhost:8080/"
        },
        "outputId": "fad220ea-c139-4fee-ca11-fabdda892227"
      },
      "outputs": [
        {
          "output_type": "stream",
          "name": "stdout",
          "text": [
            "[0.83783784 0.81081081 0.72972973 0.61111111 0.75      ]\n"
          ]
        }
      ],
      "source": [
        "import pandas as pd\n",
        "from sklearn.preprocessing import LabelEncoder\n",
        "from sklearn.model_selection import train_test_split\n",
        "df = pd.read_csv('https://raw.githubusercontent.com/dsindy/kaggle-titanic/master/data/train.csv')\n",
        "#放棄遺漏值\n",
        "df = df.dropna()\n",
        "#放棄與分析無關的欄位\n",
        "df = df.drop(columns= ['PassengerId', 'Ticket', 'Name', 'Fare', 'Cabin'])\n",
        "#將類別資料進行轉換\n",
        "df['Sex'] = LabelEncoder().fit_transform(df['Sex'])\n",
        "df['Embarked'] = LabelEncoder().fit_transform(df['Embarked'])\n",
        "#將資料欄位拆分成應變數與相依變數\n",
        "columns_X = df.iloc[:, [1,2,3,4,5,6]]\n",
        "columns_y = df['Survived']\n",
        "train_X = columns_X\n",
        "train_y = columns_y\n",
        "#載入模型並放進去訓練\n",
        "from sklearn.linear_model import LogisticRegression\n",
        "from sklearn.model_selection import cross_val_score\n",
        "log = LogisticRegression(random_state=0, max_iter=3000)\n",
        "scores = cross_val_score(log, train_X, train_y.values.ravel(),cv=5,scoring='accuracy')\n",
        "print(scores)"
      ]
    }
  ]
}