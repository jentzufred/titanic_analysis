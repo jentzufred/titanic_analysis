{
  "nbformat": 4,
  "nbformat_minor": 0,
  "metadata": {
    "colab": {
      "provenance": [],
      "authorship_tag": "ABX9TyMPy8FLhfi1u7GhlB1hLJqD",
      "include_colab_link": true
    },
    "kernelspec": {
      "name": "python3",
      "display_name": "Python 3"
    },
    "language_info": {
      "name": "python"
    }
  },
  "cells": [
    {
      "cell_type": "markdown",
      "metadata": {
        "id": "view-in-github",
        "colab_type": "text"
      },
      "source": [
        "<a href=\"https://colab.research.google.com/github/jentzufred/titanic_analysis/blob/main/%E5%B0%88%E9%A1%8C%E5%AF%A6%E4%BD%9C_01_%E9%90%B5%E9%81%94%E5%B0%BC%E8%99%9F%E5%AD%98%E6%B4%BB%E9%A0%90%E6%B8%AC.ipynb\" target=\"_parent\"><img src=\"https://colab.research.google.com/assets/colab-badge.svg\" alt=\"Open In Colab\"/></a>"
      ]
    },
    {
      "cell_type": "markdown",
      "source": [
        "專題實作 #01: 鐵達尼號存活預測\n"
      ],
      "metadata": {
        "id": "ehzlRIiGFJYe"
      }
    },
    {
      "cell_type": "code",
      "execution_count": 3,
      "metadata": {
        "id": "xA_zDWowE6vd",
        "colab": {
          "base_uri": "https://localhost:8080/"
        },
        "outputId": "54ab5df0-5a61-4241-9bcd-645c900be729"
      },
      "outputs": [
        {
          "output_type": "stream",
          "name": "stdout",
          "text": [
            "-0.06980851528714314\n",
            "-0.06491041993052589\n",
            "-0.07722109457217768\n",
            "[0.81081081 0.83783784 0.72972973 0.67567568 0.81081081]\n"
          ]
        }
      ],
      "source": [
        "import pandas as pd\n",
        "from sklearn.preprocessing import LabelEncoder\n",
        "from sklearn.model_selection import train_test_split\n",
        "df = pd.read_csv('https://raw.githubusercontent.com/dsindy/kaggle-titanic/master/data/train.csv')\n",
        "\n",
        "#transform category variable to numerical variable\n",
        "df['Sex'] = LabelEncoder().fit_transform(df['Sex'])\n",
        "df['Embarked'] = LabelEncoder().fit_transform(df['Embarked'])\n",
        "\n",
        "#fill null with different ways which are mean, nedian, mode\n",
        "df_fill_mean = df['Age'].fillna(df['Age'].mean())\n",
        "df_fill_median = df['Age'].fillna(df['Age'].median())\n",
        "df_fill_mode = df['Age'].fillna(df['Age'].mode())\n",
        "#let's test which way woulb be better\n",
        "corr_df_mean = df['Survived'].corr(df_fill_mean)\n",
        "corr_df_median = df['Survived'].corr(df_fill_median)\n",
        "corr_df_mode = df['Survived'].corr(df_fill_mode)\n",
        "print(corr_df_mean)\n",
        "print(corr_df_median)\n",
        "print(corr_df_mode)\n",
        "#可以看的出來用眾數做為填充值相對於其他方法對於存活的相關係數較高\n",
        "\n",
        "#feature selcetion\n",
        "\n",
        "df = df.dropna()\n",
        "\n",
        "#create new features\n",
        "df['Title'] = df['Name'].apply(lambda x: x.split(',')[1].split('.')[0].strip())\n",
        "df[\"FamilySize\"] = df['SibSp'] + df['Parch'] +1\n",
        "df['TicketPrefix'] = df['Ticket'].apply(lambda x: x.split()[0] if len(x.split()) > 1 else 'None' )\n",
        "df[['Title', 'FamilySize', 'TicketPrefix']].head()\n",
        "df = df.drop(columns=['PassengerId', 'Cabin', 'Ticket', 'Name'])\n",
        "df[\"Title\"] = LabelEncoder().fit_transform(df['Title'])\n",
        "df['TicketPrefix'] = LabelEncoder().fit_transform(df['TicketPrefix'])\n",
        "\n",
        "columns_X = df.iloc[:, [1,2,3,4,5,6,7,8,9]]\n",
        "columns_y = df['Survived']\n",
        "\n",
        "\n",
        "train_X = columns_X\n",
        "train_y = columns_y\n",
        "\n",
        "\n",
        "from sklearn.linear_model import LogisticRegression\n",
        "from sklearn.model_selection import cross_val_score\n",
        "\n",
        "\n",
        "log = LogisticRegression(random_state=0, max_iter=3000)\n",
        "scores = cross_val_score(log, train_X, train_y.values.ravel(),cv=5,scoring='accuracy')\n",
        "print(scores)"
      ]
    }
  ]
}